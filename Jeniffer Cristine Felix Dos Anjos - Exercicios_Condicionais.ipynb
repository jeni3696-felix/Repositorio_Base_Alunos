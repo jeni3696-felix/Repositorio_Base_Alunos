{
 "cells": [
  {
   "cell_type": "markdown",
   "id": "633160a3",
   "metadata": {},
   "source": [
    "### 📝Lista de Exercícios: Condicionais IF/ELSE"
   ]
  },
  {
   "cell_type": "markdown",
   "id": "605d2a7e",
   "metadata": {},
   "source": [
    "Exercício 1 - Maioridade 🔞\n",
    "\n",
    "Crie um programa que pergunta a idade do usuário e diz se ele é maior ou menor de idade."
   ]
  },
  {
   "cell_type": "code",
   "execution_count": 2,
   "id": "93ea230f",
   "metadata": {},
   "outputs": [
    {
     "name": "stdout",
     "output_type": "stream",
     "text": [
      "voce é maior de idade\n"
     ]
    }
   ],
   "source": [
    "idade = int(input(\"Quantos anos você tem? \"))\n",
    "maior=18\n",
    "\n",
    "if idade >=maior:\n",
    "    print(\"voce é maior de idade\")\n",
    "elif idade < maior :\n",
    "    print(\"voce é menor de idade\")\n",
    "\n",
    "\n",
    "\n",
    "# Complete o código aqui\n"
   ]
  },
  {
   "cell_type": "markdown",
   "id": "6e9528f5",
   "metadata": {},
   "source": [
    "Exercício 2 - Aprovação na Prova 🧠\n",
    "\n",
    "Faça um programa que pergunte a nota de um aluno (0 a 10) e diz se ele foi aprovado(nota >= 5) ou reprovado (nota <5)."
   ]
  },
  {
   "cell_type": "code",
   "execution_count": 5,
   "id": "4a9f8f8b",
   "metadata": {},
   "outputs": [
    {
     "name": "stdout",
     "output_type": "stream",
     "text": [
      "voce foi reprovado🫶🏻\n"
     ]
    }
   ],
   "source": [
    "nota = float(input(\"Informe a sua nota de (0 a 10)\"))\n",
    "\n",
    "\n",
    "if nota >=5:\n",
    "    print(\"voce foi aprovado\")\n",
    "elif nota <5 :\n",
    "    print(\"voce foi reprovado🫶🏻\")\n",
    "# Complete o código aqui"
   ]
  },
  {
   "cell_type": "markdown",
   "id": "9f8e9b92",
   "metadata": {},
   "source": [
    "Exercicio 3 - CNH 🚘🚙\n",
    "\n",
    " 1º - Peça ao usuário que digite a idade dele.\n",
    "\n",
    " 2º - Peça pra ele dizer se foi aprovado ou reprovado no curso de cnh.\n",
    "\n",
    " 3º - Use if e else para verificar se ele tem 18 anos ou mais e se foi aprovado.\n",
    "\n",
    " 4º - Se as condições do passo 3 estiverem certas, print(\"pode dirigir\").\n",
    " \n",
    " 5º - Se não print(\"vai andar a pé\")"
   ]
  },
  {
   "cell_type": "code",
   "execution_count": null,
   "id": "bee9f043",
   "metadata": {},
   "outputs": [],
   "source": [
    "nome=input(\"digite seu nome\")\n",
    "idade=float(input(f\" {nome} digite sua idade\"))\n",
    "cnh=input(\"voce foi aprovado no curso de CNH sim/nao \")\n",
    "\n",
    "\n",
    "if idade >=18 and cnh ==\"sim\":\n",
    "    print(\"voce pode dirigir\")\n",
    "\n",
    "elif idade >=18 and cnh== \"nao\"  :\n",
    "    print(\"voce nao pode dirigir\")    \n",
    "\n",
    "elif idade <18  :\n",
    "    print(\"voce nao pode dirigir 2\")\n",
    "\n",
    "\n",
    "\n",
    "### Seu código aqui\n"
   ]
  },
  {
   "cell_type": "markdown",
   "id": "e9c60d12",
   "metadata": {},
   "source": [
    "Exercício 4 - Calculadora de Desconto. 💵 🤑\n",
    "\n",
    "Uma loja dá 10% de desconto para compras acima de R$ 100,00. Faça um programa que:\n",
    "\n",
    "1º - Pergunta o valor da compra.\n",
    "\n",
    "2º - Calcula o valor final com desconto (se aplicável).\n",
    "\n",
    "3º - Mostra o valor a pagar."
   ]
  },
  {
   "cell_type": "code",
   "execution_count": 24,
   "id": "5edc8855",
   "metadata": {},
   "outputs": [
    {
     "name": "stdout",
     "output_type": "stream",
     "text": [
      "tente novamente\n"
     ]
    }
   ],
   "source": [
    "valor=float(input(\"digite o valor final da sua compra\"))\n",
    "\n",
    "porcentagem= 10\n",
    " \n",
    "resultado= valor*(porcentagem/100)\n",
    "\n",
    "if valor >= 100.00:\n",
    "    desconto=valor*(porcentagem/100)\n",
    "    valor_final=valor-desconto\n",
    "    print(\"voce recebeu 10% de desconto\")\n",
    "    print(f\"o valor a ser pago sera R${valor_final}\")\n",
    "\n",
    "else:\n",
    "    print(\"tente novamente\")\n",
    "\n",
    "\n",
    "\n",
    "### Seu código aqui\n"
   ]
  },
  {
   "cell_type": "markdown",
   "id": "ec96b43c",
   "metadata": {},
   "source": [
    "Exercício 5 - Classificação de Notas 🧑‍🎓\n",
    "\n",
    "Pergunte a nota de um aluno e dependendo da nota que ele informar, o classifique de acordo com as regras abaixo:\n",
    "\n",
    "Classifique a nota do aluno:\n",
    "\n",
    "- 9 até 10: \"Excelente\"\n",
    "\n",
    "- 7 até 8.9: \"Bom\"\n",
    "\n",
    "- 5 até 6.9: \"Regular\"\n",
    "\n",
    "- 0 até 4.9: \"Reprovado\"\n",
    "\n",
    "mostre para o aluno a classificação dele através de um print, exemplo print(\"Excelente\")."
   ]
  },
  {
   "cell_type": "code",
   "execution_count": null,
   "id": "465c6812",
   "metadata": {},
   "outputs": [],
   "source": [
    "nota = float(input(\"Qual a sua nota ? :\"))\n",
    "\n"
   ]
  },
  {
   "cell_type": "markdown",
   "id": "251b0fa7",
   "metadata": {},
   "source": [
    "Exercício 6 - Acesso ao Sistema 🔑\n",
    "\n",
    "Crie um login simples:\n",
    "\n",
    "- usuario_correto = \"admin\"\n",
    "\n",
    "- senha_correta = \"1234\"\n",
    "\n",
    "**Peça para o usuário digitar primeiro o login e depois a senha, caso login e senha estejam corretos programa deve mostrar \"Acesso permitido\" se não \"Acesso negado\"**\n"
   ]
  },
  {
   "cell_type": "code",
   "execution_count": null,
   "id": "7fcf16db",
   "metadata": {},
   "outputs": [],
   "source": [
    "usuario_correto = \"admin\"\n",
    "senha_correta = 1234\n",
    "\n"
   ]
  },
  {
   "cell_type": "markdown",
   "id": "46c27406",
   "metadata": {},
   "source": [
    "Exercício 7 - Maior Número 📉\n",
    "\n",
    "Peça 3 números e mostre qual é o maior deles."
   ]
  },
  {
   "cell_type": "code",
   "execution_count": null,
   "id": "916439ff",
   "metadata": {},
   "outputs": [],
   "source": [
    "\n"
   ]
  },
  {
   "cell_type": "markdown",
   "id": "984fe0fe",
   "metadata": {},
   "source": [
    "Exercício 8 - Dia da Semana\n",
    "Peça um número de 1 a 7 e mostre o dia da semana correspondente: 📅\n",
    "\n",
    "- 1: Domingo\n",
    "\n",
    "- 2: Segunda\n",
    "\n",
    "- ... até 7: Sábado"
   ]
  },
  {
   "cell_type": "code",
   "execution_count": null,
   "id": "f34c6fbf",
   "metadata": {},
   "outputs": [],
   "source": [
    "numero = int(input(\"Digite um número de 1 até 7\"))\n",
    "\n"
   ]
  },
  {
   "cell_type": "markdown",
   "id": "f1f760b7",
   "metadata": {},
   "source": [
    "Exercício 9 - Calculadora Simples 📏📐\n",
    "\n",
    "- Faça uma calculadora que:\n",
    "\n",
    "- Pede dois números\n",
    "\n",
    "- Pede a operação (+, -, *, /)\n",
    "\n",
    "- Dependendo da operação mostre o resultado.\n",
    "\n"
   ]
  },
  {
   "cell_type": "code",
   "execution_count": null,
   "id": "95c6ce03",
   "metadata": {},
   "outputs": [],
   "source": []
  },
  {
   "cell_type": "markdown",
   "id": "f39f6b73",
   "metadata": {},
   "source": [
    "Exercício 10 - Sistema de Multas 🚙🚘🧾\n",
    "\n",
    "\n",
    "- Velocidade máxima: 80 km/h 🚫\n",
    "\n",
    "- Até 80: \"Sem multa\"\n",
    "\n",
    "- 81-100: \"Multa leve\"\n",
    "\n",
    "- Acima de 100: \"Multa grave\""
   ]
  },
  {
   "cell_type": "code",
   "execution_count": null,
   "id": "20fdc977",
   "metadata": {},
   "outputs": [],
   "source": []
  }
 ],
 "metadata": {
  "kernelspec": {
   "display_name": "Python 3",
   "language": "python",
   "name": "python3"
  },
  "language_info": {
   "codemirror_mode": {
    "name": "ipython",
    "version": 3
   },
   "file_extension": ".py",
   "mimetype": "text/x-python",
   "name": "python",
   "nbconvert_exporter": "python",
   "pygments_lexer": "ipython3",
   "version": "3.13.2"
  }
 },
 "nbformat": 4,
 "nbformat_minor": 5
}
