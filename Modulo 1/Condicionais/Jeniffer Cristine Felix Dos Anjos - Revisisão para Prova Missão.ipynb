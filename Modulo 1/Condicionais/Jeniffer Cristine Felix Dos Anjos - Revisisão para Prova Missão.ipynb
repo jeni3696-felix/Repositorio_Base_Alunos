{
 "cells": [
  {
   "cell_type": "markdown",
   "id": "f445e552",
   "metadata": {},
   "source": [
    "### 🧪 Revisão de prova - Missão: Condicionais 🤖\n",
    "\n",
    "Você está sendo avaliado(a) em sua habilidade de tomar decisões automatizadas por meio de códigos. Em cada uma das atividades a seguir, use estruturas condicionais com sabedoria."
   ]
  },
  {
   "cell_type": "markdown",
   "id": "769337a0",
   "metadata": {},
   "source": [
    "### ⚖️ Desafio 01 - Avaliação de Desempenho na Agência 🧾 (Usando if, múltiplos elif e else)"
   ]
  },
  {
   "cell_type": "markdown",
   "id": "14f80018",
   "metadata": {},
   "source": [
    "O Sistema de Avaliação da Agência Central de Inteligência precisa classificar os agentes de acordo com sua nota final. Sua missão é automatizar esse processo."
   ]
  },
  {
   "cell_type": "markdown",
   "id": "89f6fff0",
   "metadata": {},
   "source": [
    "🎯 Objetivo:\n",
    "Solicitar o nome do agente e sua nota final (0 a 10).\n",
    "Exibir a classificação:"
   ]
  },
  {
   "cell_type": "markdown",
   "id": "234495dd",
   "metadata": {},
   "source": [
    "Solicitar o nome do agente e sua nota final (0 a 10).\n",
    "Exibir a classificação:\n",
    "\n",
    "Nota\tClassificação\n",
    "\n",
    "9.0 a 10.0\tExcelente 🏅\n",
    "\n",
    "7.0 a 8.9\tBom 👍\n",
    "\n",
    "5.0 a 6.9\tRegular ⚠️\n",
    "\n",
    "3.0 a 4.9\tRuim 🚫\n",
    "\n",
    "0.0 a 2.9\tCrítico 🚨\n",
    "Fora do intervalo\tNota inválida   \n"
   ]
  },
  {
   "cell_type": "markdown",
   "id": "41369ade",
   "metadata": {},
   "source": [
    "Exibir mensagem:\n",
    "\"Agente [NOME], sua classificação é: [classificação] (nota: [nota])\"\n"
   ]
  },
  {
   "cell_type": "markdown",
   "id": "bd552298",
   "metadata": {},
   "source": [
    "📦 Instruções Gerais\n",
    "\n",
    "Mantenha seu código indentado corretamente e com prints claros.\n",
    "Personalize a saída sempre que possível usando o nome do usuário.\n"
   ]
  },
  {
   "cell_type": "markdown",
   "id": "e540ea62",
   "metadata": {},
   "source": [
    "Boa sorte nas decisões lógicas, agente.\n",
    "A sua capacidade de condicionar pode alterar o curso do código.\n"
   ]
  },
  {
   "cell_type": "code",
   "execution_count": null,
   "id": "77ac96b4",
   "metadata": {},
   "outputs": [],
   "source": [
    "nome1=input(\"digite seu nome\")\n",
    "nota=float(input(\"digite sua nota final(0 A 10)\"))\n",
    "\n",
    "if nota==9.0 or nota == 10.0:\n",
    "    print(f\"agente {nome1},sua classificaçao:exelente nota {nota}\")\n",
    "\n",
    "elif nota==7.0 or nota== 8.9:\n",
    "    print(f\"agente {nome1},sua classificaçao: boa, nota {nota}\")     \n",
    "\n",
    "elif nota==5.0 or nota==6.9:\n",
    "    print(f\"agente {nome1},sua classificaçao: regular, nota {nota}\")\n",
    "\n",
    "elif nota==3.0 or nota== 4.9:\n",
    "    print(f\"agente {nome1},sua classificaçao: ruim, nota {nota}\")\n",
    "\n",
    "elif nota >=0 or nota<=2.9:\n",
    "    print(f\"agente {nome1},sua classificaçao é : critico, nota {nota}\")\n",
    "\n",
    "else:\n",
    "    print(\"fora do intervalo , Nota invalida\")\n"
   ]
  },
  {
   "cell_type": "code",
   "execution_count": null,
   "id": "14a7e8c0",
   "metadata": {},
   "outputs": [],
   "source": [
    "nome1=input(\"digite seu nome\")\n",
    "nota=float(input(\"digite sua nota final(0 A 10)\"))                                          ### empresas presam por menos codigos\n",
    "\n",
    "if nota>=9.0 and nota <= 10.0:\n",
    "    classificacao=\"exelente 🏅\"\n",
    "\n",
    "elif nota>=7.0 and nota <=8.9:\n",
    "    classificacao=\"boa\"\n",
    "\n",
    "elif nota>=5.0 and nota <=6.9:\n",
    "    classificacao=\"regular\"\n",
    "\n",
    "elif nota>=3.0 and nota <=4.9:\n",
    "    classificacao=\"ruim\"\n",
    "\n",
    "elif nota>=0 and nota <=2.9:\n",
    "    classificacao=\"critica\"\n",
    "\n",
    "else:\n",
    "    print(\"fora do intervalo, nota invalida\")\n"
   ]
  },
  {
   "cell_type": "code",
   "execution_count": null,
   "id": "4b23bf1c",
   "metadata": {},
   "outputs": [],
   "source": [
    "nome=input(\"digite seu nome\")\n",
    "nota=float(input(\"digite sua nota final(0 A 10)\"))                     ### empresas presam por menos codigos\n",
    "\n",
    "\n",
    "if nota>=9.0 and nota <= 10.0:\n",
    "    classificacao=\"exelente\"\n",
    "\n",
    "elif nota>=7.0 and nota <=8.9:\n",
    "    classificacao=\"boa\"\n",
    "\n",
    "elif nota>=5.0 and nota <=6.9:\n",
    "    classificacao=\"regular\"\n",
    "\n",
    "elif nota>=3.0 and nota <=4.9:\n",
    "    classificacao=\"ruim\"\n",
    "\n",
    "elif nota>=0 and nota <=2.9:\n",
    "    classificacao=\"critica \"\n",
    "\n",
    "else:\n",
    "    classificacao=\"invalida\"\n",
    "\n",
    "\n",
    "print(f\"agente {nome},sua classificaçao é {classificacao},sua nota foi {nota}\")\n",
    "\n",
    "\n",
    "\n",
    "\n"
   ]
  }
 ],
 "metadata": {
  "kernelspec": {
   "display_name": "Python 3",
   "language": "python",
   "name": "python3"
  },
  "language_info": {
   "codemirror_mode": {
    "name": "ipython",
    "version": 3
   },
   "file_extension": ".py",
   "mimetype": "text/x-python",
   "name": "python",
   "nbconvert_exporter": "python",
   "pygments_lexer": "ipython3",
   "version": "3.13.2"
  }
 },
 "nbformat": 4,
 "nbformat_minor": 5
}
