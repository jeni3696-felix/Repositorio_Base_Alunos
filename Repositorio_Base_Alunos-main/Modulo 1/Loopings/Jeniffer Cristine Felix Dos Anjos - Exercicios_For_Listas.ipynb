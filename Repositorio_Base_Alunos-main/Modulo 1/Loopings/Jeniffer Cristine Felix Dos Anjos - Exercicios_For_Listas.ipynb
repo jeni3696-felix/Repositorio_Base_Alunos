{
 "cells": [
  {
   "cell_type": "markdown",
   "id": "d2b6c514",
   "metadata": {},
   "source": [
    "### 🚀 Exercícios Melhorados de Python: Listas e Loops for"
   ]
  },
  {
   "cell_type": "markdown",
   "id": "44a3875e",
   "metadata": {},
   "source": [
    "### 🔍 1. Filtro de Filmes por Gênero 🎬\n",
    "\n",
    "Desafio:\n",
    "\n",
    "Crie um loop for para percorrer a lista de filmes e de gêneros e depois mostre na tela apenas os filmes de ação."
   ]
  },
  {
   "cell_type": "code",
   "execution_count": 8,
   "id": "365515ab",
   "metadata": {},
   "outputs": [
    {
     "name": "stdout",
     "output_type": "stream",
     "text": [
      "🎬 Filmes de AÇÃO:\n",
      " Vingadores : Ultimato \n",
      " Velozes e Furiosos \n",
      " Missão Impossível \n"
     ]
    }
   ],
   "source": [
    "filmes = [\"O Poderoso Chefão\", \"Vingadores : Ultimato\", \"Toy Story\", \"Velozes e Furiosos\", \"Missão Impossível\", \"De Volta para o Futuro\",\"Zodiaco\"]\n",
    "generos = [\"Drama\", \"Ação\", \"Animação\", \"Ação\",\"Ação\", \"Aventura\", \"Suspense\"]\n",
    "\n",
    "### Seu código aqui\n",
    "\n",
    "\n",
    "print(\"🎬 Filmes de AÇÃO:\")  \n",
    "        ###loop para mostrar apenas os filmes de açao\n",
    "for i in range(len(filmes)): \n",
    "     filme=filmes[i]\n",
    "     genero=generos[i]          # i< para progamadores é ITEM\n",
    "\n",
    "\n",
    "     if genero == \"Ação\":\n",
    "     \n",
    "      print(f\" {filme} \")\n"
   ]
  },
  {
   "cell_type": "code",
   "execution_count": null,
   "id": "8b260b41",
   "metadata": {},
   "outputs": [
    {
     "name": "stdout",
     "output_type": "stream",
     "text": [
      "🎬 Filmes de AÇÃO:\n",
      "{'titulo': 'Missão Impossível', 'genero': 'ação'}\n",
      "{'titulo': 'Velozes e Furiosos', 'genero': 'ação'}\n",
      "{'titulo': 'John Wick', 'genero': 'ação'}\n"
     ]
    }
   ],
   "source": [
    "filmes = [\"O Poderoso Chefão\", \"Vingadores : Ultimato\", \"Toy Story\", \"Velozes e Furiosos\", \"Missão Impossível\", \"De Volta para o Futuro\",\"Zodiaco\"]\n",
    "generos = [\"Drama\", \"Ação\", \"Animação\", \"Ação\",\"Ação\", \"Aventura\", \"Suspense\"]\n",
    "\n",
    "### Seu código aqui\n",
    "\n",
    "\n",
    "filmes = [{\"filme\": \"Missão Impossível\", \"genero\": \"ação\"},{\"filme\": \"Titanic\", \"genero\": \"drama\"},{\"filme\": \"Velozes e Furiosos\", \"genero\": \"ação\"},{\"filme\": \"O Rei Leão\", \"genero\": \"animação\"},{\"titulo\": \"John Wick\", \"genero\": \"ação\"},{\"titulo\": \"La La Land\", \"genero\": \"musical\"}]\n",
    "\n",
    "\n",
    "\n",
    "print(\"🎬 Filmes de AÇÃO:\")          ###loop para mostrar apenas os filmes de açao\n",
    "for filme in filmes:\n",
    "\n",
    "    if filme[\"genero\"] == \"ação\":\n",
    "        print(f\"{filme}\")\n",
    "\n"
   ]
  },
  {
   "cell_type": "markdown",
   "id": "4def914a",
   "metadata": {},
   "source": [
    "Agora crie um código que verfique a nota de cada filme e recomende para o usuário os filmes com notas superioes a 7.0"
   ]
  },
  {
   "cell_type": "code",
   "execution_count": 14,
   "id": "52470059",
   "metadata": {},
   "outputs": [
    {
     "name": "stdout",
     "output_type": "stream",
     "text": [
      "🎬 recomendamos para voce:\n",
      "recomendamos pra voce o filme: O Poderoso Chefãoseu genero é Drama ,sua classificaçao é 9.0\n",
      "recomendamos pra voce o filme: Vingadores : Ultimatoseu genero é Ação ,sua classificaçao é 9.5\n",
      "recomendamos pra voce o filme: Toy Storyseu genero é Animação ,sua classificaçao é 10\n",
      "recomendamos pra voce o filme: Missão Impossívelseu genero é Ação ,sua classificaçao é 8.0\n",
      "recomendamos pra voce o filme: De Volta para o Futuroseu genero é Aventura ,sua classificaçao é 10\n",
      "recomendamos pra voce o filme: Zodiacoseu genero é Suspense ,sua classificaçao é 9.8\n"
     ]
    }
   ],
   "source": [
    "filmes = [\"O Poderoso Chefão\", \"Vingadores : Ultimato\", \"Toy Story\", \"Velozes e Furiosos\", \"Missão Impossível\", \"De Volta para o Futuro\", \"Zodiaco\", \"Thunderbolts\"]\n",
    "generos = [\"Drama\", \"Ação\", \"Animação\", \"Ação\",\"Ação\", \"Aventura\", \"Suspense\",\"ação\"]\n",
    "notas_filmes = [9.0, 9.5, 10, 5.2, 8.0, 10, 9.8, 5.5]\n",
    "\n",
    "### Seu código aqui\n",
    "\n",
    "\n",
    "print(\"🎬 recomendamos para voce:\")          ###loop para mostrar apenas os filmes de açao\n",
    "for i in range (len(filmes)):\n",
    "    nota=notas_filmes[i]\n",
    "    filme=filmes[i]\n",
    "    genero=generos[i]\n",
    "\n",
    "    if nota > 7.0:\n",
    "        print(f\"recomendamos pra voce o filme: {filme}seu genero é {genero} ,sua classificaçao é {nota}\")\n",
    "        \n",
    "\n",
    "\n"
   ]
  },
  {
   "cell_type": "markdown",
   "id": "4fca3773",
   "metadata": {},
   "source": [
    "### 🎯 2. Jogo de Adivinhação com Dicas �"
   ]
  },
  {
   "cell_type": "markdown",
   "id": "03b72809",
   "metadata": {},
   "source": [
    "Crie um jogo onde:\n",
    "\n",
    "✅ O programa escolhe uma palavra secreta aleatória de uma lista (ex: [\"banana\", \"abacaxi\", \"morango\"]).\n",
    "\n",
    "\n",
    "✅ O usuário tem 3 tentativas para adivinhar.\n",
    "\n",
    "\n",
    "\n",
    "✅ A cada erro, o programa dá uma dica (ex: \"Tem [x] letras\" ou \"Começa com [letra]\").\n",
    "\n",
    "\n",
    "\n",
    "\n",
    "✅ Use um loop for para controlar as tentativas e, se acertar, imprima \"🎉 Você ganhou! A palavra era [X]\".\n",
    "\n"
   ]
  },
  {
   "cell_type": "code",
   "execution_count": 9,
   "id": "19ac745b",
   "metadata": {},
   "outputs": [
    {
     "name": "stdout",
     "output_type": "stream",
     "text": [
      "🎉 Você ganhou! A palavra era abacaxi\n"
     ]
    }
   ],
   "source": [
    "palavras_secretas = [\"banana\", \"abacaxi\", \"morango\", \"Tecknológia\"]\n",
    "\n",
    "palavra_certa=palavras_secretas[1]\n",
    "\n",
    "tentativas=3\n",
    "\n",
    "for tentativa in range(1,4):\n",
    "    palpite=input(f\"{tentativa} /3-adivinhe  a palavra \").lower()\n",
    "\n",
    "    if palpite==palavra_certa:\n",
    "        print( f\"🎉 Você ganhou! A palavra era {palpite}\")\n",
    "        break\n",
    "\n",
    "    else:\n",
    "        if tentativa ==1 :\n",
    "            print(f\"dica: a palavra tem {len(palavra_certa)} letras\")\n",
    "\n",
    "        elif tentativa ==2 :\n",
    "            print(f\"dica: a palavra começa com  {palavra_certa[0]} letras\")\n",
    "\n",
    "        else:\n",
    "             print(f\"suas tentativas acabaram , a palavra era {palavra_certa}\")\n",
    "\n"
   ]
  },
  {
   "cell_type": "markdown",
   "id": "8c04f1b7",
   "metadata": {},
   "source": [
    "### 📊 3. Análise de Dados de Redes Sociais 📱"
   ]
  },
  {
   "cell_type": "markdown",
   "id": "939eeec4",
   "metadata": {},
   "source": [
    "Você tem uma lista de likes por postagem:\n",
    "\n",
    "Desafio:\n",
    "\n",
    "Calcule a média de likes.\n",
    "\n",
    "\n",
    "Identifique quantos posts estão acima da média e print:\n",
    "\n",
    "\n",
    "\"📈 [X] posts bombaram (+ que [média] likes)\""
   ]
  },
  {
   "cell_type": "code",
   "execution_count": null,
   "id": "5b380686",
   "metadata": {},
   "outputs": [],
   "source": [
    "## Nome dos influencers\n",
    "influencers = [\"Virginia\", \"Carlinhos Maia\", \"Deolane\", \"Poze\", \"Matheus Costa\",\"Zé Felipe\"]\n",
    "### likes por post\n",
    "like_posts = [120, 245, 89, 310, 42, 178] \n",
    "## Calcula o total de likes da lista\n",
    "total_likes = sum(like_posts)\n",
    "\n",
    "# Sua vez calcule á media de likes\n",
    "\n",
    "# Depois veja qual influencer teve likes acima da média\n",
    "\n",
    "\n",
    "\n"
   ]
  },
  {
   "cell_type": "markdown",
   "id": "d7cfa84f",
   "metadata": {},
   "source": [
    "### 🎯 Bônus Extra: Desafio dos Emojis Aleatórios\n",
    "\n",
    "✅ Gere uma lista de 10 emojis aleatórios (use [\"🐍\", \"🔥\", \"🎮\", \"👾\", \"🚀\"]) e:\n",
    "\n",
    "✅ Conte quantas vezes \"🔥\" aparece.\n",
    "\n",
    "\n",
    "✅ Substitua \"🎮\" por \"💻\".\n",
    "\n",
    "\n",
    "✅ Print a lista final."
   ]
  },
  {
   "cell_type": "code",
   "execution_count": null,
   "id": "28ab2513",
   "metadata": {},
   "outputs": [],
   "source": [
    "lista_emojis = [\"🐍\", \"🔥\", \"🎮\", \"👾\", \"🚀\",\"🔥\",\"🔥\",\"🔥\",\"🔥🔥🚀🔥🔥🔥🚀🔥🔥🔥🔥👾🔥🔥🔥🔥🔥🚀🔥🔥🔥🔥🔥🔥🔥👾🔥🔥🔥🔥🔥🔥🔥🚀🔥🔥🔥\",\"🔥🔥\"]\n",
    "\n",
    "\n"
   ]
  }
 ],
 "metadata": {
  "kernelspec": {
   "display_name": "Python 3",
   "language": "python",
   "name": "python3"
  },
  "language_info": {
   "codemirror_mode": {
    "name": "ipython",
    "version": 3
   },
   "file_extension": ".py",
   "mimetype": "text/x-python",
   "name": "python",
   "nbconvert_exporter": "python",
   "pygments_lexer": "ipython3",
   "version": "3.13.2"
  }
 },
 "nbformat": 4,
 "nbformat_minor": 5
}
