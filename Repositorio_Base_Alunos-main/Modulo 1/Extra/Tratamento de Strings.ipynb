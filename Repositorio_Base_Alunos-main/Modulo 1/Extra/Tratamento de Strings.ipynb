{
 "cells": [
  {
   "cell_type": "markdown",
   "id": "423a416a",
   "metadata": {},
   "source": [
    "### Tratamentos de Texto (string)\n",
    "\n",
    "Objetivo: Mostrar a importância de manipular textos em programação.\n",
    "\n",
    "\n",
    "\n",
    "\"Vocês já pensaram como os apps sabem seu nome quando você faz login? Ou como o Instagram mostra seu username em letras minúsculas? Tudo isso usa tratamento de strings!\"\n",
    "\n",
    "O que é uma String?\n",
    "\n",
    "Sequência de caracteres (letras, números, símbolos).\n",
    "\n",
    "Em Python, vem entre \"aspas\"."
   ]
  },
  {
   "cell_type": "markdown",
   "id": "5f38bab9",
   "metadata": {},
   "source": [
    "### 2 - Operações Básicas com strings (textos)\n",
    "\n",
    "a) Juntar textos ou em outras palavras concatenar"
   ]
  },
  {
   "cell_type": "code",
   "execution_count": 2,
   "id": "5cd6b8e7",
   "metadata": {},
   "outputs": [
    {
     "name": "stdout",
     "output_type": "stream",
     "text": [
      "Mateus Silva\n"
     ]
    }
   ],
   "source": [
    "nome = \"Mateus\"  \n",
    "sobrenome = \"Silva\"  \n",
    "nome_completo = nome + \" \" + sobrenome  \n",
    "print(nome_completo) "
   ]
  },
  {
   "cell_type": "code",
   "execution_count": null,
   "id": "8a3240ce",
   "metadata": {},
   "outputs": [],
   "source": []
  },
  {
   "cell_type": "code",
   "execution_count": 46,
   "id": "a03ea409",
   "metadata": {},
   "outputs": [
    {
     "name": "stdout",
     "output_type": "stream",
     "text": [
      "anacrisbatera123@gmail.com felix\n"
     ]
    }
   ],
   "source": [
    "nome = \"anacrisbatera123@gmail.com\"  \n",
    "sobrenome = \"felix\"  \n",
    "nome_completo = nome + \" \" + sobrenome  \n",
    "print(nome_completo) "
   ]
  },
  {
   "cell_type": "markdown",
   "id": "f2fddf3a",
   "metadata": {},
   "source": [
    "b) Tamanho da String\n"
   ]
  },
  {
   "cell_type": "code",
   "execution_count": 47,
   "id": "1a01fe4d",
   "metadata": {},
   "outputs": [
    {
     "name": "stdout",
     "output_type": "stream",
     "text": [
      "26\n"
     ]
    }
   ],
   "source": [
    "tamanho = len(nome)\n",
    "print (tamanho)\n",
    "\n"
   ]
  },
  {
   "cell_type": "code",
   "execution_count": 31,
   "id": "6f000ee5",
   "metadata": {},
   "outputs": [
    {
     "name": "stdout",
     "output_type": "stream",
     "text": [
      "que nome grande\n"
     ]
    }
   ],
   "source": [
    "# qual o tamanho\n",
    "nome=input(\"digite seu nome\")\n",
    "tamanho = len(nome)\n",
    "\n",
    "if  tamanho >= 6:\n",
    "    print(\"que nome grande\")\n",
    "else:\n",
    "    print(\"nome normal\")    "
   ]
  },
  {
   "cell_type": "code",
   "execution_count": 35,
   "id": "f552804c",
   "metadata": {},
   "outputs": [
    {
     "name": "stdout",
     "output_type": "stream",
     "text": [
      "nome normal\n"
     ]
    }
   ],
   "source": [
    "# qual o tamanho\n",
    "nome=input(\"digite seu nome\")\n",
    "tamanho = len(nome)\n",
    "\n",
    "if  tamanho >=7:\n",
    "    print(\"que nome grande\")\n",
    "elif tamanho<=5:\n",
    "    print(\"nome pequeno\")\n",
    "\n",
    "else:\n",
    "    print(\"nome normal\")    "
   ]
  },
  {
   "cell_type": "markdown",
   "id": "6222c7c4",
   "metadata": {},
   "source": [
    "c) Acessar Letras (Índices)"
   ]
  },
  {
   "cell_type": "code",
   "execution_count": 37,
   "id": "21af5f71",
   "metadata": {},
   "outputs": [
    {
     "name": "stdout",
     "output_type": "stream",
     "text": [
      "O\n",
      "a\n"
     ]
    }
   ],
   "source": [
    "frase = \"Olá meus garotos(a) de Programa\"  \n",
    "print(frase[0])   # 'O' (primeira letra)  \n",
    "print(frase[-1])  # 'a' (última letra)"
   ]
  },
  {
   "cell_type": "code",
   "execution_count": 39,
   "id": "fe0729bc",
   "metadata": {},
   "outputs": [
    {
     "name": "stdout",
     "output_type": "stream",
     "text": [
      "j\n",
      "s\n"
     ]
    }
   ],
   "source": [
    "meu_nome=\"jeniffer cristine felix dos anjos\"\n",
    "print(meu_nome[0]) \n",
    "print(meu_nome[-1])"
   ]
  },
  {
   "cell_type": "markdown",
   "id": "05b42fdb",
   "metadata": {},
   "source": [
    "d) Fatiamento (Slicing)"
   ]
  },
  {
   "cell_type": "code",
   "execution_count": 41,
   "id": "50f44874",
   "metadata": {},
   "outputs": [
    {
     "name": "stdout",
     "output_type": "stream",
     "text": [
      "mateus@\n",
      "mail.\n"
     ]
    }
   ],
   "source": [
    "email = \"mateus@gmail.com\"  \n",
    "print(email[:7])    # \"mateus\" (do início até o índice 6)  \n",
    "print(email[8:13])  # \"gmail\" (do índice 8 ao 12)"
   ]
  },
  {
   "cell_type": "code",
   "execution_count": 54,
   "id": "9e61b07e",
   "metadata": {},
   "outputs": [
    {
     "name": "stdout",
     "output_type": "stream",
     "text": [
      "mateus\n",
      "@gmail.com\n"
     ]
    }
   ],
   "source": [
    "email = \"mateus@gmail.com\"  \n",
    "print(email[:6])    # \"mateus\" (do início até o índice 6)  \n",
    "print(email[6:16])  # \"gmail\" (do índice 8 ao 12)"
   ]
  },
  {
   "cell_type": "code",
   "execution_count": 51,
   "id": "d3b0ae90",
   "metadata": {},
   "outputs": [
    {
     "name": "stdout",
     "output_type": "stream",
     "text": [
      "anacrisbatera123\n",
      "@gmail.com\n"
     ]
    }
   ],
   "source": [
    "email_=\"anacrisbatera123@gmail.com\"\n",
    "print(email_[:16])\n",
    "print(email_[16:])"
   ]
  },
  {
   "cell_type": "markdown",
   "id": "6f09cf29",
   "metadata": {},
   "source": [
    "### 3. Métodos Úteis"
   ]
  },
  {
   "cell_type": "markdown",
   "id": "0f891d89",
   "metadata": {},
   "source": [
    "a) Conversão de minúsculas para maiúsculas "
   ]
  },
  {
   "cell_type": "code",
   "execution_count": 55,
   "id": "87258ddf",
   "metadata": {},
   "outputs": [
    {
     "name": "stdout",
     "output_type": "stream",
     "text": [
      "python é demais!\n",
      "PYTHON É DEMAIS!\n"
     ]
    }
   ],
   "source": [
    "texto = \"Python é Demais!\"  \n",
    "print(texto.lower())   # \"python é demais!\"  \n",
    "print(texto.upper())   # \"PYTHON É DEMAIS!\""
   ]
  },
  {
   "cell_type": "code",
   "execution_count": 56,
   "id": "2491fc5b",
   "metadata": {},
   "outputs": [
    {
     "name": "stdout",
     "output_type": "stream",
     "text": [
      "feia\n",
      "FEIA\n"
     ]
    }
   ],
   "source": [
    "texto =input(\"dite algo\")  \n",
    "print(texto.lower())   # \"python é demais!\"  \n",
    "print(texto.upper())   # \"PYTHON É DEMAIS!\""
   ]
  },
  {
   "cell_type": "code",
   "execution_count": 60,
   "id": "0cba9e61",
   "metadata": {},
   "outputs": [
    {
     "name": "stdout",
     "output_type": "stream",
     "text": [
      "i love you jesus\n",
      "I LOVE YOU JESUS\n"
     ]
    }
   ],
   "source": [
    "nome_= \"i lOve YoU Jesus\"  \n",
    "print(nome_.lower())     \n",
    "print(nome_.upper()) "
   ]
  },
  {
   "cell_type": "markdown",
   "id": "926010d9",
   "metadata": {},
   "source": [
    "b) Substituição"
   ]
  },
  {
   "cell_type": "code",
   "execution_count": 61,
   "id": "d17e64d6",
   "metadata": {},
   "outputs": [
    {
     "name": "stdout",
     "output_type": "stream",
     "text": [
      "Eu adoro segunda-feira\n"
     ]
    }
   ],
   "source": [
    "mensagem = \"Eu odeio segunda-feira\"  \n",
    "print(mensagem.replace(\"odeio\", \"adoro\"))  # \"Eu adoro segunda-feira\""
   ]
  },
  {
   "cell_type": "code",
   "execution_count": 67,
   "id": "29a44197",
   "metadata": {},
   "outputs": [
    {
     "name": "stdout",
     "output_type": "stream",
     "text": [
      "eu odeio minha escola\n"
     ]
    }
   ],
   "source": [
    "escolinha_=\"eu amo minha escola\"\n",
    "print(escolinha_.replace(\"amo\",\"odeio\"))"
   ]
  },
  {
   "cell_type": "code",
   "execution_count": 82,
   "id": "59b91786",
   "metadata": {},
   "outputs": [
    {
     "name": "stdout",
     "output_type": "stream",
     "text": [
      "hetero\n"
     ]
    }
   ],
   "source": [
    "usuario=input(\"digite algo\")\n",
    "print(usuario.replace(\"gay\", \"gato\"))"
   ]
  },
  {
   "cell_type": "markdown",
   "id": "bf5e453f",
   "metadata": {},
   "source": [
    "c) Divisão de Strings"
   ]
  },
  {
   "cell_type": "code",
   "execution_count": 74,
   "id": "164d4642",
   "metadata": {},
   "outputs": [
    {
     "name": "stdout",
     "output_type": "stream",
     "text": [
      "['python', 'programação', 'jovens']\n"
     ]
    }
   ],
   "source": [
    "hashtags = \"python#programação#jovens\"  \n",
    "print(hashtags.split(\"#\"))  # [\"python\", \"programação\", \"jovens\"]"
   ]
  },
  {
   "cell_type": "code",
   "execution_count": null,
   "id": "3ea99765",
   "metadata": {},
   "outputs": [],
   "source": [
    "ache_a_frase = \"oprofessor1de1python1é1o1melhor\""
   ]
  },
  {
   "cell_type": "code",
   "execution_count": null,
   "id": "240353a3",
   "metadata": {},
   "outputs": [
    {
     "name": "stdout",
     "output_type": "stream",
     "text": [
      "['oprofessor', 'de', 'python', 'é', 'o', 'melhor']\n"
     ]
    }
   ],
   "source": [
    "ache_a_frase = \"oprofessor1de1python1é1o1melhor\"  \n",
    "print(ache_a_frase.split(\"1\"))   ['oprofessor', 'de', 'python', 'é', 'o', 'melhor']\n",
    "   "
   ]
  },
  {
   "cell_type": "markdown",
   "id": "76a1722a",
   "metadata": {},
   "source": [
    "d) Remoção de Espaços"
   ]
  },
  {
   "cell_type": "code",
   "execution_count": null,
   "id": "84eb0e89",
   "metadata": {},
   "outputs": [],
   "source": [
    "user_input = \"   olá   \"  \n",
    "print(user_input.strip())  # \"olá\" (remove espaços extras)"
   ]
  },
  {
   "cell_type": "code",
   "execution_count": null,
   "id": "6c279dc5",
   "metadata": {},
   "outputs": [],
   "source": []
  },
  {
   "cell_type": "markdown",
   "id": "f2ab3244",
   "metadata": {},
   "source": [
    "### 4 - Primeiro Desafio: Criar um \"Gerador de Username\" que:\n",
    "\n",
    "Pede o nome completo do usuário;\n",
    "\n",
    "Gera um username no formato nome.sobrenome (minúsculas, sem espaços)."
   ]
  },
  {
   "cell_type": "code",
   "execution_count": 115,
   "id": "f43a2dfe",
   "metadata": {},
   "outputs": [
    {
     "name": "stdout",
     "output_type": "stream",
     "text": [
      "seu username é :jeniffer.anjos\n"
     ]
    }
   ],
   "source": [
    "nome_completo=input(\"digite seu nome completo\")\n",
    "nome_sem_espaço=nome_completo.strip()\n",
    "nome_minusculo=nome_sem_espaço.lower()\n",
    "quebra_nome=nome_minusculo.split()\n",
    "primeiro_nome=quebra_nome[0]\n",
    "ultimo_nome=quebra_nome[-1]\n",
    "\n",
    "usuario=primeiro_nome+\".\"+ultimo_nome\n",
    "print(f\"seu username é :{usuario}\")\n"
   ]
  },
  {
   "cell_type": "code",
   "execution_count": null,
   "id": "55492576",
   "metadata": {},
   "outputs": [],
   "source": [
    "nome_completo=input(\"digite seu nome completo\")\n",
    "nome_sem_espaço=nome_completo.strip()\n",
    "nome_minusculo=nome_sem_espaço.lower()\n",
    "print(nome_sem_espaço)\n",
    "quebra_nome=nome_minusculo.split()\n",
    "print(quebra_nome)\n",
    "primeiro_nome=quebra_nome[0]\n",
    "print(primeiro_nome)\n",
    "ultimo_nome=quebra_nome[-1]\n",
    "print(ultimo_nome)\n",
    "\n",
    "usuario=primeiro_nome+\".\"+ultimo_nome\n",
    "print(f\"seu username é :{usuario}\")\n"
   ]
  },
  {
   "cell_type": "code",
   "execution_count": null,
   "id": "f971afa7",
   "metadata": {},
   "outputs": [
    {
     "name": "stdout",
     "output_type": "stream",
     "text": [
      "jeniffer felix\n"
     ]
    }
   ],
   "source": [
    "\n",
    "nome2=input(\"digite seu nome\").strip().lower()\n",
    "sobrenome2=input(\"digite seu sobrenome\").strip().lower()  \n",
    "user_name_ = nome2 + \".\" + sobrenome2  \n",
    "print(user_name_)"
   ]
  },
  {
   "cell_type": "markdown",
   "id": "2e45c883",
   "metadata": {},
   "source": [
    "### METODO ANNY"
   ]
  },
  {
   "cell_type": "code",
   "execution_count": 125,
   "id": "64d09c66",
   "metadata": {},
   "outputs": [
    {
     "name": "stdout",
     "output_type": "stream",
     "text": [
      "jeniffer.cristine.felix.dos.anjos\n"
     ]
    }
   ],
   "source": [
    "nome=input(\"digite seu nome completo\")\n",
    "print(nome.lower().replace(\" \",\".\"))"
   ]
  },
  {
   "cell_type": "markdown",
   "id": "a03b49e9",
   "metadata": {},
   "source": [
    "### metodo ellen"
   ]
  },
  {
   "cell_type": "code",
   "execution_count": null,
   "id": "485b6752",
   "metadata": {},
   "outputs": [
    {
     "name": "stdout",
     "output_type": "stream",
     "text": [
      "jeniffer .felix\n"
     ]
    }
   ],
   "source": [
    "nome2=input(\"digite seu nome\").strip().lower()\n",
    "sobrenome2=input(\"digite seu sobrenome\").strip().lower()  \n",
    "user_name_ = nome2 + \".\" + sobrenome2  \n",
    "print(user_name_)"
   ]
  },
  {
   "cell_type": "code",
   "execution_count": null,
   "id": "9192c7f2",
   "metadata": {},
   "outputs": [
    {
     "name": "stdout",
     "output_type": "stream",
     "text": [
      "Seu username é: mateus.sousa.silva\n"
     ]
    }
   ],
   "source": []
  },
  {
   "cell_type": "markdown",
   "id": "25399d2d",
   "metadata": {},
   "source": [
    "### Segundo Desafio"
   ]
  },
  {
   "cell_type": "markdown",
   "id": "e790bc58",
   "metadata": {},
   "source": [
    "Verificar se uma senha tem pelo menos 8 caracteres:"
   ]
  },
  {
   "cell_type": "code",
   "execution_count": 122,
   "id": "2d9ff656",
   "metadata": {},
   "outputs": [
    {
     "name": "stdout",
     "output_type": "stream",
     "text": [
      "digite 8 letras\n"
     ]
    }
   ],
   "source": [
    "senha_=input(\"digite uma senha que tenha no minimo 8 caracteres\")\n",
    "tamanho = len(senha_)\n",
    "if tamanho>=8:\n",
    "    print(\"ok\")\n",
    "else:\n",
    "    print(\"digite 8 letras\")    "
   ]
  },
  {
   "cell_type": "markdown",
   "id": "a58aa74f",
   "metadata": {},
   "source": [
    "### 5. Exercício Final (Para Casa)\n",
    "\n",
    "Crie um \"Tradutor de Internetês\":\n",
    "\n",
    "Substitui palavras por abreviações (ex: \"você\" → \"vc\", \"tamo junto\" → \"tmj\").\n",
    "\n",
    "Dica: Use .replace() múltiplas vezes!"
   ]
  },
  {
   "cell_type": "code",
   "execution_count": null,
   "id": "abf41fae",
   "metadata": {},
   "outputs": [
    {
     "name": "stdout",
     "output_type": "stream",
     "text": [
      "prç   eu e vc estamos juntos pra sempre\n"
     ]
    }
   ],
   "source": [
    "voce=input(\"digite algo\")\n",
    "print(voce.replace(\"tamo junto\", \"tmj\").replace(\"parça\", \"prç\").replace(\"voce\", \"vc\").replace(\"hoje\",\"hj\"))\n"
   ]
  },
  {
   "cell_type": "code",
   "execution_count": null,
   "id": "f99dc73d",
   "metadata": {},
   "outputs": [],
   "source": [
    "voce=input(\"digite algo\")\n",
    "if voce==\"voce\":\n",
    "    print(voce.replace(\"voce\", \"vc\")) \n",
    "\n",
    "elif voce==\"tamo junto\":\n",
    "    print(voce.replace(\"tamo junto\", \"tmj\"))\n",
    "\n",
    "elif voce==\"parça\":\n",
    "    print(voce.replace(\"parça\", \"prç\"))\n"
   ]
  },
  {
   "cell_type": "code",
   "execution_count": 9,
   "id": "85fbd08d",
   "metadata": {},
   "outputs": [
    {
     "name": "stdout",
     "output_type": "stream",
     "text": [
      "gato TMJ\n"
     ]
    }
   ],
   "source": [
    "usuario=input(\"digite algo\")\n",
    "print(usuario.replace(\"gay\", \"gato\").replace(\"tamo junto\",\"TMJ\"))"
   ]
  },
  {
   "cell_type": "markdown",
   "id": "babd7a7c",
   "metadata": {},
   "source": [
    "### 6. Conclusão\n",
    "Recapitulação:\n",
    "\n",
    "Strings são textos delimitados por aspas.\n",
    "\n",
    "Podemos acessar letras, fatiar, converter, dividir e muito mais!\n",
    "\n",
    "Próxima Aula:\n",
    "\n",
    "Trabalhar com listas e loops em strings (ex: contar vogais).\n",
    "\n",
    "Feedback:\n",
    "\n",
    "\"O que vocês acharam mais útil? Alguma dúvida para tirar?\""
   ]
  },
  {
   "cell_type": "markdown",
   "id": "34d1b921",
   "metadata": {},
   "source": [
    "### CALCULA MEDIA"
   ]
  },
  {
   "cell_type": "code",
   "execution_count": null,
   "id": "e0e929bd",
   "metadata": {},
   "outputs": [
    {
     "name": "stdout",
     "output_type": "stream",
     "text": [
      "a sua media é:3.0\n",
      "voce tirou as seguintes notas:3.0,3.0,3.0\n",
      "reprovado\n"
     ]
    }
   ],
   "source": [
    "nota1=float(input(\"digite sua primeira nota\"))\n",
    "nota2=float(input(\"digite sua segunda nota\"))\n",
    "nota3=float(input(\"digite sua terceira nota\"))\n",
    "media4=((nota1+nota2+nota3)/3)\n",
    "print(f\"a sua media é:{media4}\")\n",
    "print(f\"voce tirou as seguintes notas:{nota1},{nota2},{nota3}\")\n",
    "media4 ==5\n",
    "if media4 >=5:\n",
    "    print(\"voce foi aprovado\")\n",
    "elif media4 ==4:\n",
    "    print(\"recuperacao\")\n",
    "elif media4 <=3:\n",
    "    print(\"reprovado,te vejo ano que vem HAHAHAHA ,continue pagango meu salario\")\n",
    "\n",
    "else :\n",
    "    print(\" te vejo ano que vem HAHAHAHA ,continue pagango meu salario\")"
   ]
  }
 ],
 "metadata": {
  "kernelspec": {
   "display_name": "Python 3",
   "language": "python",
   "name": "python3"
  },
  "language_info": {
   "codemirror_mode": {
    "name": "ipython",
    "version": 3
   },
   "file_extension": ".py",
   "mimetype": "text/x-python",
   "name": "python",
   "nbconvert_exporter": "python",
   "pygments_lexer": "ipython3",
   "version": "3.13.2"
  }
 },
 "nbformat": 4,
 "nbformat_minor": 5
}
