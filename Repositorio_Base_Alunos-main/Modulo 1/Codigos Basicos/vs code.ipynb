{
 "cells": [
  {
   "cell_type": "code",
   "execution_count": 15,
   "id": "9df35583",
   "metadata": {},
   "outputs": [
    {
     "name": "stdout",
     "output_type": "stream",
     "text": [
      "7.266666666666667\n"
     ]
    }
   ],
   "source": [
    "\n",
    "nota1=float(5.4)\n",
    "nota2=float(7.7)\n",
    "nota3=float(8.7)\n",
    "media=(nota1+nota2+nota3)/3\n",
    "print(media)"
   ]
  },
  {
   "cell_type": "code",
   "execution_count": 1,
   "id": "a670f67f",
   "metadata": {},
   "outputs": [
    {
     "name": "stdout",
     "output_type": "stream",
     "text": [
      "jogo de adivinhacao\n",
      "---------\n",
      "sua marca de carro favorita é:ford\n"
     ]
    }
   ],
   "source": [
    "print(\"jogo de adivinhacao\")\n",
    "print(\"---------\")\n",
    "marca_decarro=input(\"informe qual sua marca de carro favorita\")\n",
    "print(f\"sua marca de carro favorita é:{marca_decarro}\")\n"
   ]
  },
  {
   "cell_type": "code",
   "execution_count": 17,
   "id": "d71e245a",
   "metadata": {},
   "outputs": [
    {
     "name": "stdout",
     "output_type": "stream",
     "text": [
      "a sua media é:3.6666666666666665\n"
     ]
    }
   ],
   "source": [
    "nota1=float(input(\"digite a sua primeira nota\"))\n",
    "nota2=float(input(\"digite a sua sugunda nota\"))\n",
    "nota3=float(input(\"digite a sua terceira nota\"))\n",
    "media=(nota1+nota2+nota3)/3\n",
    "print(f\"a sua media é:{media}\")"
   ]
  },
  {
   "cell_type": "code",
   "execution_count": null,
   "id": "ed58a138",
   "metadata": {},
   "outputs": [
    {
     "name": "stdout",
     "output_type": "stream",
     "text": [
      "a marca do seu carro dos sonhos é:ford\n"
     ]
    }
   ],
   "source": [
    "nome_marcade_carro=(input(\"informe a marca do seu carro dos sonhos\"))\n",
    "print(f\"a marca do seu carro dos sonhos é:{nome_marcade_carro}\")\n"
   ]
  },
  {
   "cell_type": "code",
   "execution_count": null,
   "id": "c8a4266f",
   "metadata": {},
   "outputs": [
    {
     "name": "stdout",
     "output_type": "stream",
     "text": [
      "o seu numero é 123.0\n"
     ]
    }
   ],
   "source": [
    "numero = float(input(\"digite o seu numero\"))\n",
    "print(f\"o seu numero é {numero}\")"
   ]
  },
  {
   "cell_type": "code",
   "execution_count": null,
   "id": "8ec1a140",
   "metadata": {},
   "outputs": [
    {
     "name": "stdout",
     "output_type": "stream",
     "text": [
      "a sua idade é 12.0\n"
     ]
    }
   ],
   "source": [
    "idade=float(input(\"digite sua idade\"))\n",
    "print(f\"a sua idade é {idade}\")"
   ]
  },
  {
   "cell_type": "code",
   "execution_count": 2,
   "id": "c75ac2be",
   "metadata": {},
   "outputs": [
    {
     "name": "stdout",
     "output_type": "stream",
     "text": [
      "sua idade é 17.0 e seu nome é jeniffer\n"
     ]
    }
   ],
   "source": [
    "nome=input(\"digite seu nome\")\n",
    "idade=float(input(\"informe sua idade\"))\n",
    "print(f\"sua idade é {idade} e seu nome é {nome}\")"
   ]
  },
  {
   "cell_type": "code",
   "execution_count": 5,
   "id": "fa240772",
   "metadata": {},
   "outputs": [
    {
     "name": "stdout",
     "output_type": "stream",
     "text": [
      "jogo de adivinhaçao\n",
      "-------------------\n",
      "vou adivinhar sua idade e seu nome\n",
      "vamos la ???\n",
      "A sua idade 17 e seu nome é jeniffer\n"
     ]
    }
   ],
   "source": [
    "print(\"jogo de adivinhaçao\")\n",
    "print(\"-------------------\")\n",
    "print(\"vou adivinhar sua idade e seu nome\")\n",
    "print(\"vamos la ???\")\n",
    "nome=input(\"digite seu nome\")\n",
    "anoque_nasceu=int(input(\"informe o ano que vc nasceu\"))\n",
    "ano_atual=int(input(\"informe o ano atual\"))\n",
    "idade=(ano_atual-anoque_nasceu)\n",
    "print(f\"A sua idade {idade} e seu nome é {nome}\")"
   ]
  },
  {
   "cell_type": "markdown",
   "id": "0926ec60",
   "metadata": {},
   "source": [
    "### calcule a media "
   ]
  },
  {
   "cell_type": "code",
   "execution_count": null,
   "id": "1ccf3083",
   "metadata": {},
   "outputs": [
    {
     "name": "stdout",
     "output_type": "stream",
     "text": [
      "a sua media é:5.5\n"
     ]
    }
   ],
   "source": [
    "nota1=float(input(\"digite sua primeira nota\"))\n",
    "nota2=float(input(\"digite sua segunda nota\"))\n",
    "nota3=float(input(\"digite sua terceira nota\"))\n",
    "nota4=float(input(\"digite sua quarta nota\"))\n",
    "nota5=float(input(\"digite sua quinta nota\"))\n",
    "nota6=float(input(\"digite sua sexta nota\"))\n",
    "nota7=float(input(\"digite sua setima nota\"))\n",
    "nota8=float(input(\"digite sua oitava  nota\"))\n",
    "nota9=float(input(\"digite sua nona nota\"))\n",
    "nota10=float(input(\"digite sua decima nota\"))\n",
    "nota11=float(input(\"digite sua decima primeira nota\"))\n",
    "nota12=float(input(\"digite sua decima segunda nota\"))\n",
    "media=((nota1+nota2+nota3+nota5+nota6+nota7+nota8+nota9+nota10+nota11+nota12)/12)\n",
    "print(f\"a sua media é:{media}\")"
   ]
  },
  {
   "cell_type": "markdown",
   "id": "5e4f13a9",
   "metadata": {},
   "source": [
    "### Quero te conhecer melhor "
   ]
  },
  {
   "cell_type": "code",
   "execution_count": null,
   "id": "fb30592f",
   "metadata": {},
   "outputs": [
    {
     "name": "stdout",
     "output_type": "stream",
     "text": [
      "foi um prazer conhecer voce\n",
      "seu nome é: jeniffer\n",
      "seu hobbie é: assistir filmes e series \n",
      "sua comida favoria é: strogonoff\n",
      "sua cor favoria é: preto e vermelho\n",
      "sua cantor favorito é: bruno mars\n",
      "seu estilo de musica é: gospel\n",
      "sua musica favorita é: tu es poderoso\n"
     ]
    }
   ],
   "source": [
    "nome=input(\"seu nome\")\n",
    "hobie=input(\"seu hobbie\")\n",
    "sua_comidafavorita=input(\"sua comida favorita\")\n",
    "sua_corfavorita=input(\"sua cor favorita\")\n",
    "seucantor_favorito=input(\"seu contor favorito\")\n",
    "seu_estilodemusica_favorito=input(\"seu estilo de musica favorito\")\n",
    "suamusica_favorita=input(\"sua musica favorita\")\n",
    "print(\"foi um prazer conhecer voce\")\n",
    "print(f\"seu nome é:{nome}\")\n",
    "print(f\"seu hobbie é: {hobie}\")\n",
    "print(f\"sua comida favoria é: {sua_comidafavorita}\")\n",
    "print(f\"sua cor favoria é: {sua_corfavorita}\")\n",
    "print(f\"sua cantor favorito é: {seucantor_favorito}\")\n",
    "print(f\"seu estilo de musica é: {seu_estilodemusica_favorito}\")\n",
    "print(f\"sua musica favorita é: {suamusica_favorita}\")"
   ]
  },
  {
   "cell_type": "markdown",
   "id": "f1a68b66",
   "metadata": {},
   "source": [
    "### IF E ELSE"
   ]
  },
  {
   "cell_type": "code",
   "execution_count": null,
   "id": "141eda97",
   "metadata": {},
   "outputs": [
    {
     "name": "stdout",
     "output_type": "stream",
     "text": [
      " te vejo ano que vem HAHAHAHA ,continue magango meu salario\n"
     ]
    }
   ],
   "source": [
    "media=4\n",
    "if media >=5:\n",
    "    print(\"voce foi aprovado\")\n",
    "else :\n",
    "    print(\" te vejo ano que vem HAHAHAHA ,continue pagango meu salario\")"
   ]
  },
  {
   "cell_type": "code",
   "execution_count": 6,
   "id": "057c2bc8",
   "metadata": {},
   "outputs": [
    {
     "name": "stdout",
     "output_type": "stream",
     "text": [
      "voce foi aprovado\n"
     ]
    }
   ],
   "source": [
    "media=float(input(\"qual a sua media\"))\n",
    "if media >=5:\n",
    "    print(\"voce foi aprovado\")\n",
    "else :\n",
    "    print(\" te vejo ano que vem HAHAHAHA ,continue pagango meu salario\")"
   ]
  },
  {
   "cell_type": "code",
   "execution_count": 8,
   "id": "23820844",
   "metadata": {},
   "outputs": [
    {
     "name": "stdout",
     "output_type": "stream",
     "text": [
      "te vejo ano que vem HAHAHAHA ,continue pagango meu salario\n"
     ]
    }
   ],
   "source": [
    "nota1=float(input(\"digite sua primeira nota\"))\n",
    "nota2=float(input(\"digite sua segunda nota\"))\n",
    "nota3=float(input(\"digite sua terceira nota\"))\n",
    "media=((nota1+nota2+nota3)/3)\n",
    "if media >=5:\n",
    "    print(\"voce foi aprovado\")\n",
    "else:\n",
    "    print(\"te vejo ano que vem HAHAHAHA ,continue pagango meu salario\")    \n",
    "\n"
   ]
  },
  {
   "cell_type": "markdown",
   "id": "484d3494",
   "metadata": {},
   "source": [
    "### CONTATINHO"
   ]
  },
  {
   "cell_type": "code",
   "execution_count": 16,
   "id": "7e598e57",
   "metadata": {},
   "outputs": [
    {
     "name": "stdout",
     "output_type": "stream",
     "text": [
      "vamos continuar conversando\n",
      "te mando um zap\n"
     ]
    }
   ],
   "source": [
    "nome=input(\"digite seu nome\")\n",
    "numerode_telefone=input(\"digite seu numero de telefone\")\n",
    "crush = \"jeniffer\"\n",
    "if nome== crush:  \n",
    "    print(\"vamos continuar conversando\")\n",
    "    print(\"te mando um zap\")\n",
    "else:\n",
    "    print(\"some daqui\")\n"
   ]
  },
  {
   "cell_type": "code",
   "execution_count": null,
   "id": "2539df59",
   "metadata": {},
   "outputs": [],
   "source": [
    "produto=input(\"digite o nome do produto\")\n",
    "quantidade=float(input(\"digite a quantidade do produto\"))\n",
    "if quantidade==0:\n",
    "    print(f\"{produto} em falta!!! compre imediatamente\")\n",
    "elif quantidade<=10:\n",
    "     print(f\"{produto} esta quase acabando,por favor repor o estoque\")\n",
    "elif quantidade>=30:\n",
    "      print(f\"{produto} em excesso , nao compre mais\")\n",
    "else:\n",
    "      print(f\"o estoque deª {produto} esta dentro do normal\")           \n"
   ]
  },
  {
   "cell_type": "code",
   "execution_count": 1,
   "id": "d4a03846",
   "metadata": {},
   "outputs": [
    {
     "name": "stdout",
     "output_type": "stream",
     "text": [
      "a soma 12.0+ 12.0=24.0\n"
     ]
    }
   ],
   "source": [
    "numero1=float(input(\"digite o primeiro numero\"))\n",
    "numero2=float(input(\"digite o segundo numero\"))\n",
    "operacoes=input(\"escolha uma das operacoes mamaticas SOMAR(+)SUBITRAIR(-)MULTIPLICAR(*)DIVIDIR(/)\")\n",
    "\n",
    "if operacoes==\"soma\" or operacoes==\"+\":\n",
    "    soma=numero1+numero2\n",
    "    print(f\"a soma {numero1}+ {numero2}={soma}\")\n",
    "    \n",
    "elif  operacoes==\"soma\" or operacoes==\"-\":\n",
    "    soma=numero1-numero2\n",
    "    print(f\"a soma {numero1}- {numero2}={soma}\")\n",
    "\n",
    "elif  operacoes==\"soma\" or operacoes==\"*\":\n",
    "    soma=numero1*numero2\n",
    "    print(f\"a soma {numero1}* {numero2}={soma}\")    \n",
    "\n",
    "elif  operacoes==\"soma\" or operacoes==\"/\":\n",
    "    soma=numero1/numero2\n",
    "    print(f\"a soma {numero1}/ {numero2}={soma}\") \n",
    "\n",
    "else:\n",
    "    print(\"erro*****\") "
   ]
  }
 ],
 "metadata": {
  "kernelspec": {
   "display_name": "Python 3",
   "language": "python",
   "name": "python3"
  },
  "language_info": {
   "codemirror_mode": {
    "name": "ipython",
    "version": 3
   },
   "file_extension": ".py",
   "mimetype": "text/x-python",
   "name": "python",
   "nbconvert_exporter": "python",
   "pygments_lexer": "ipython3",
   "version": "3.13.2"
  }
 },
 "nbformat": 4,
 "nbformat_minor": 5
}
