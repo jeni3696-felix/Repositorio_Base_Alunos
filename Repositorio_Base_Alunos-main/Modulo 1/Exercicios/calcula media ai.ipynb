{
 "cells": [
  {
   "cell_type": "markdown",
   "id": "ea7caabc",
   "metadata": {},
   "source": [
    "### calcula media \n"
   ]
  },
  {
   "cell_type": "code",
   "execution_count": null,
   "id": "0dc91528",
   "metadata": {},
   "outputs": [
    {
     "name": "stdout",
     "output_type": "stream",
     "text": [
      "recuperacao\n",
      " \n",
      "------suas notas foram------\n",
      "1° nota 5.0\n",
      "2° nota 8.0\n",
      "3° nota 3.0\n",
      "sua media é 5.333333333333333\n"
     ]
    }
   ],
   "source": [
    "nota1=float(input(\"digite sua primeira nota\"))\n",
    "nota2=float(input(\"digite sua segunda nota\"))\n",
    "nota3=float(input(\"digite sua terceira nota\"))\n",
    "media=((nota1+nota2+nota3)/3)\n",
    "if media >=8:\n",
    "    print(\"voce foi aprovado\")\n",
    "\n",
    "elif media >=5 and media <=7.9:\n",
    "     print(\"recuperacao\")\n",
    "\n",
    "else:\n",
    "    print(\"te vejo ano que vem HAHAHAHA ,continue pagango meu salario\")    \n",
    "print (\" \")\n",
    "print (\"------suas notas foram------\")\n",
    "print (f\"1° nota {nota1}\")\n",
    "print (f\"2° nota {nota2}\")\n",
    "print (f\"3° nota {nota3}\")\n",
    "print (f\"sua media é {media.2f}\")"
   ]
  }
 ],
 "metadata": {
  "kernelspec": {
   "display_name": "Python 3",
   "language": "python",
   "name": "python3"
  },
  "language_info": {
   "codemirror_mode": {
    "name": "ipython",
    "version": 3
   },
   "file_extension": ".py",
   "mimetype": "text/x-python",
   "name": "python",
   "nbconvert_exporter": "python",
   "pygments_lexer": "ipython3",
   "version": "3.13.2"
  }
 },
 "nbformat": 4,
 "nbformat_minor": 5
}
