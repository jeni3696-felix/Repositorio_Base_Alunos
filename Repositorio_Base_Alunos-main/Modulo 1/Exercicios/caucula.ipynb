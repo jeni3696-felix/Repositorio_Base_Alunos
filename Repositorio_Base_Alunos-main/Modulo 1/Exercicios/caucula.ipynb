{
 "cells": [
  {
   "cell_type": "code",
   "execution_count": 3,
   "id": "e202cedf",
   "metadata": {},
   "outputs": [
    {
     "name": "stdout",
     "output_type": "stream",
     "text": [
      "obesidade grau 1 , procure um nutricionista de obesidade\n",
      "seu peso é 100.0, sua altura é 1.69, seu imc é 33.333333333333336, com base nas suas informaçao voce esta obesidade grau 1  \n",
      "33.333333333333336\n"
     ]
    }
   ],
   "source": [
    "nome=input(\"digite seu nome\")\n",
    "peso=float(input(f\" {nome} digite seu peso\"))\n",
    "altura=float(input(f\" {nome} digite sua altura\"))\n",
    "imc=peso/round(altura**2)\n",
    "\n",
    "if imc <18.5:\n",
    "    classificacao=\"abaixo do peso\"\n",
    "    print(f\"{classificacao}, procure um nutricionista\")\n",
    "\n",
    "elif imc>=18.5 and imc <=24.9:\n",
    "   classificacao=\"peso normal\"\n",
    "   print(f\"{classificacao}, continue se alimentando bem \")\n",
    "\n",
    "elif imc>=25.0 and imc <=29.9:\n",
    "   classificacao=\"sobrepeso\"\n",
    "   print(f\"{classificacao}, procure um nutricionista\")\n",
    "\n",
    "elif imc>=30.0 and imc <=34.9:\n",
    "   classificacao=\"obesidade grau 1 \"\n",
    "   print(f\"{classificacao}, procure um nutricionista de obesidade\")\n",
    "\n",
    "elif imc>=35.0 and imc <=39.9:\n",
    "   classificacao=\"obesidade grau II \"\n",
    "   print(f\"{classificacao}, procure um nutricionista de obesidade\")\n",
    "\n",
    "elif imc>=40:\n",
    "   classificacao=\"obesidade grau III \"\n",
    "   print(f\"{classificacao}, procure um nutricionista de obesidade\")\n",
    "\n",
    "else:\n",
    "   print(\"Entrada inválida. Digite apenas números positivos.\")\n",
    "\n",
    "    \n",
    "print (f\"seu peso é {peso}, sua altura é {altura}, seu imc é {imc}, com base nas suas informaçao voce esta {classificacao} \")\n",
    "\n",
    "print(imc)"
   ]
  },
  {
   "cell_type": "code",
   "execution_count": null,
   "id": "11ea330b",
   "metadata": {},
   "outputs": [
    {
     "name": "stdout",
     "output_type": "stream",
     "text": [
      "jeniffer,seu peso é 58.9, sua altura é 1.69, seu imc é 20.62252722243619, com base nas suas informaçao voce esta peso normal ,continue se alimentando bem 👍👍👍 \n"
     ]
    }
   ],
   "source": [
    "nome=input(\"digite seu nome\")\n",
    "peso=float(input(f\" {nome} digite seu peso\"))\n",
    "altura=float(input(f\" {nome} digite sua altura\"))\n",
    "imc=peso/round(altura**2)                                                             ### calcule o imc do usuario \n",
    "\n",
    "if imc <18.5:\n",
    "    classificacao=\"abaixo do peso , 🔍 procure um nutricionista , para cuidar da sua alimentaçao\"\n",
    "\n",
    "elif imc>=18.5 and imc <=24.9:\n",
    "   classificacao=\"peso normal ,continue se alimentando bem 👍👍👍 \"\n",
    "\n",
    "elif imc>=25.0 and imc <=29.9:\n",
    "   classificacao=\"obesidade grau III, 🔍 procure um nutricionista para cuidar da sua alimentacao \"\n",
    "\n",
    "elif imc>=30.0 and imc <=34.9:\n",
    "   classificacao=\"obesidade grau I, 🔍 procure um nutricionista de obesidade\"\n",
    "\n",
    "elif imc>=35.0 and imc <=39.9:\n",
    "   classificacao=\"obesidade grau II, 🔍procure um nutricionista de obesidade\"\n",
    "\n",
    "elif imc>=40:\n",
    "   classificacao=\"obesidade grau III, 🔍procure um nutricionista de obesidade\"\n",
    "\n",
    "else:\n",
    "   print(\" Entrada inválida  ❌❌❌ . Digite apenas números positivos.\")\n",
    "\n",
    "    \n",
    "print (f\"{nome},seu peso é {peso}, sua altura é {altura}, seu imc é {imc}, com base nas suas informaçao voce esta {classificacao}\")"
   ]
  }
 ],
 "metadata": {
  "kernelspec": {
   "display_name": "Python 3",
   "language": "python",
   "name": "python3"
  },
  "language_info": {
   "codemirror_mode": {
    "name": "ipython",
    "version": 3
   },
   "file_extension": ".py",
   "mimetype": "text/x-python",
   "name": "python",
   "nbconvert_exporter": "python",
   "pygments_lexer": "ipython3",
   "version": "3.13.2"
  }
 },
 "nbformat": 4,
 "nbformat_minor": 5
}
